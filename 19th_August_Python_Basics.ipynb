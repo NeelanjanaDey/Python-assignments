{
 "cells": [
  {
   "cell_type": "code",
   "execution_count": 23,
   "id": "ec83246e",
   "metadata": {},
   "outputs": [
    {
     "name": "stdout",
     "output_type": "stream",
     "text": [
      "x= 9 y= 10\n"
     ]
    }
   ],
   "source": [
    "\"\"\"1. Declare two variables, `x` and `y`, and assign them integer values.\n",
    "Swap the values of these variables without using any temporary variable.\"\"\"\n",
    "\n",
    "#creating variables\n",
    "x=10\n",
    "y=9\n",
    "#swap values\n",
    "x,y=y,x\n",
    "print(\"x=\",x,\"y=\",y)"
   ]
  },
  {
   "cell_type": "code",
   "execution_count": 24,
   "id": "63fbaeac",
   "metadata": {},
   "outputs": [
    {
     "name": "stdout",
     "output_type": "stream",
     "text": [
      "('area=', 8)\n"
     ]
    }
   ],
   "source": [
    "\"\"\"2. Create a program that calculates the area of a rectangle. Take the length and\n",
    "width as inputs from the user and store them in variables. Calculate and\n",
    "display the area.\"\"\"\n",
    "\n",
    "#defining a function with inputs length and bredth to calculate area of rectangle\n",
    "def area(l,b):\n",
    "    area=l*b\n",
    "    return (\"area=\",area)\n",
    "print(area(4,2))"
   ]
  },
  {
   "cell_type": "code",
   "execution_count": 25,
   "id": "66320ff2",
   "metadata": {},
   "outputs": [
    {
     "name": "stdout",
     "output_type": "stream",
     "text": [
      "('temperature in Farenheit is', 53.6)\n"
     ]
    }
   ],
   "source": [
    "\"\"\"3. Write a Python program that converts temperatures from Celsius to\n",
    "Fahrenheit. Take the temperature in Celsius as input, store it in a variable,\n",
    "convert it to Fahrenheit, and display the result.\"\"\"\n",
    "\n",
    "#defining a function that takes temperature in celcius as input and give temperature in farenheit as output\n",
    "def converttemp(tC):\n",
    "    tF=32+(tC*9/5)\n",
    "    return(\"temperature in Farenheit is\",tF)\n",
    "print(converttemp(12))"
   ]
  },
  {
   "cell_type": "code",
   "execution_count": 26,
   "id": "e3b606ef",
   "metadata": {},
   "outputs": [
    {
     "name": "stdout",
     "output_type": "stream",
     "text": [
      "length of string is 9\n"
     ]
    }
   ],
   "source": [
    "\"\"\"\"4. Write a Python program that takes a string as input and prints the length of\n",
    "the string.\"\"\"\n",
    "\n",
    "#defining a function with string as input to calculate its length\n",
    "def lenstring(s):\n",
    "    return len(s)\n",
    "print(\"length of string is\",lenstring(\"InsideOut\"))\n"
   ]
  },
  {
   "cell_type": "code",
   "execution_count": 27,
   "id": "7ab83080",
   "metadata": {},
   "outputs": [
    {
     "name": "stdout",
     "output_type": "stream",
     "text": [
      "('number of vowels in', 'Neelanjana', 'is', 5)\n"
     ]
    }
   ],
   "source": [
    "\"\"\"5. Create a program that takes a sentence from the user and counts the number\n",
    "of vowels (a, e, i, o, u) in the string.\"\"\"\n",
    "\n",
    "#defining a function to count the number of vowels in a given sentence.\n",
    "def countvowels(sentence):\n",
    "    vowels=\"AaEeIiOoUu\"\n",
    "    vow=0\n",
    "    for c in sentence:\n",
    "        for v in vowels:\n",
    "            if c==v:\n",
    "                vow+=1\n",
    "    return(\"number of vowels in\",sentence,\"is\",vow)\n",
    "sentence=\"Neelanjana\"\n",
    "print(countvowels(sentence))"
   ]
  },
  {
   "cell_type": "code",
   "execution_count": 28,
   "id": "d6177a02",
   "metadata": {},
   "outputs": [
    {
     "name": "stdout",
     "output_type": "stream",
     "text": [
      "reversed string is sllikswp\n"
     ]
    }
   ],
   "source": [
    "\"\"\"6 Given a string, reverse the order of characters using string slicing and print\n",
    "the reversed string.\"\"\"\n",
    "\n",
    "#defining a unction to reverse a given string\n",
    "def reversestring(string):\n",
    "    a=string[::-1]\n",
    "    return a\n",
    "string=\"pwskills\"\n",
    "print(\"reversed string is\",reversestring(string))"
   ]
  },
  {
   "cell_type": "code",
   "execution_count": 29,
   "id": "45334d91",
   "metadata": {},
   "outputs": [
    {
     "name": "stdout",
     "output_type": "stream",
     "text": [
      "True\n"
     ]
    }
   ],
   "source": [
    "\"\"\"7. Write a program that takes a string as input and checks if it is a palindrome\"\"\"\n",
    "\n",
    "#defining a function that takes a string as input to check if it is a pallindrome\n",
    "def check_pallindrome(string):\n",
    "    reversed_string=string[::-1]\n",
    "    if string==reversed_string:\n",
    "        return True\n",
    "    else:\n",
    "        return False\n",
    "string=\"malayalam\"\n",
    "print(check_pallindrome(string))"
   ]
  },
  {
   "cell_type": "code",
   "execution_count": 30,
   "id": "896878f4",
   "metadata": {},
   "outputs": [
    {
     "name": "stdout",
     "output_type": "stream",
     "text": [
      "abcde\n"
     ]
    }
   ],
   "source": [
    "\"\"\"8. Create a program that takes a string as input and removes all the spaces from\n",
    "it. Print the modified string without spaces.\"\"\"\n",
    "\n",
    "#defining a function to remove spaces from a string and taking input as a string\n",
    "def removespace(string):\n",
    "    newstring=string.replace(\" \",\"\")\n",
    "    return newstring\n",
    "string=\"a b c d e\"\n",
    "print(removespace(string))\n"
   ]
  },
  {
   "cell_type": "code",
   "execution_count": null,
   "id": "f42f875c",
   "metadata": {},
   "outputs": [],
   "source": []
  }
 ],
 "metadata": {
  "kernelspec": {
   "display_name": "Python 3 (ipykernel)",
   "language": "python",
   "name": "python3"
  },
  "language_info": {
   "codemirror_mode": {
    "name": "ipython",
    "version": 3
   },
   "file_extension": ".py",
   "mimetype": "text/x-python",
   "name": "python",
   "nbconvert_exporter": "python",
   "pygments_lexer": "ipython3",
   "version": "3.11.3"
  }
 },
 "nbformat": 4,
 "nbformat_minor": 5
}
