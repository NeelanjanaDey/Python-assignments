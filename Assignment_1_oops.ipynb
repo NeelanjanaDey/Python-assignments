{
 "cells": [
  {
   "cell_type": "code",
   "execution_count": 2,
   "id": "9ebc228d-86d7-4f6b-b0cd-1e5cc2b4d033",
   "metadata": {},
   "outputs": [
    {
     "name": "stdout",
     "output_type": "stream",
     "text": [
      "Deposited $500. New balance: $1500\n",
      "Withdrew $300. New balance: $1200\n"
     ]
    }
   ],
   "source": [
    "#Problem 1: Bank Account\n",
    "class BankAccount:\n",
    "    def __init__(self, account_number, account_holder_name, balance=0):\n",
    "        self.account_number = account_number\n",
    "        self.account_holder_name = account_holder_name\n",
    "        self.balance = balance\n",
    "\n",
    "    def deposit(self, amount):\n",
    "        if amount > 0:\n",
    "            self.balance += amount\n",
    "            print(f\"Deposited ${amount}. New balance: ${self.balance}\")\n",
    "        else:\n",
    "            print(\"Deposit amount must be positive.\")\n",
    "\n",
    "    def withdraw(self, amount):\n",
    "        if amount > 0 and amount <= self.balance:\n",
    "            self.balance -= amount\n",
    "            print(f\"Withdrew ${amount}. New balance: ${self.balance}\")\n",
    "        else:\n",
    "            print(\"Insufficient balance or invalid withdrawal amount.\")\n",
    "\n",
    "# Example\n",
    "account = BankAccount(12345, \"John Doe\", 1000)\n",
    "account.deposit(500)\n",
    "account.withdraw(300)\n"
   ]
  },
  {
   "cell_type": "code",
   "execution_count": 4,
   "id": "0bb9bf55-1f41-46eb-a60e-98a4473d5a1b",
   "metadata": {},
   "outputs": [
    {
     "name": "stdout",
     "output_type": "stream",
     "text": [
      "Employee ID: 101\n",
      "Name: Alice\n",
      "Salary: $50000\n",
      "Bonus: $5000.0\n"
     ]
    }
   ],
   "source": [
    "#Problem 2: Employee management\n",
    "class Employee:\n",
    "    def __init__(self, employee_id, name, salary):\n",
    "        self.employee_id = employee_id\n",
    "        self.name = name\n",
    "        self.salary = salary\n",
    "\n",
    "    def calculate_bonus(self):\n",
    "        return self.salary * 0.10  # 10% bonus\n",
    "\n",
    "    def display_details(self):\n",
    "        print(f\"Employee ID: {self.employee_id}\")\n",
    "        print(f\"Name: {self.name}\")\n",
    "        print(f\"Salary: ${self.salary}\")\n",
    "        print(f\"Bonus: ${self.calculate_bonus()}\")\n",
    "\n",
    "# Example\n",
    "employee = Employee(101, \"Alice\", 50000)\n",
    "employee.display_details()\n"
   ]
  },
  {
   "cell_type": "code",
   "execution_count": 6,
   "id": "90ed0da7-8dfb-4878-9003-69aebf8344ec",
   "metadata": {},
   "outputs": [
    {
     "name": "stdout",
     "output_type": "stream",
     "text": [
      "Available vehicles: ['Car', 'Truck', 'Motorcycle']\n",
      "Car has been rented.\n",
      "Available vehicles: ['Truck', 'Motorcycle']\n",
      "Car has been returned.\n",
      "Available vehicles: ['Truck', 'Motorcycle', 'Car']\n"
     ]
    }
   ],
   "source": [
    "#Problem 3: vehicle Rental\n",
    "class VehicleRental:\n",
    "    def __init__(self):\n",
    "        self.available_vehicles = [\"Car\", \"Truck\", \"Motorcycle\"]\n",
    "        self.rented_vehicles = []\n",
    "\n",
    "    def rent_vehicle(self, vehicle):\n",
    "        if vehicle in self.available_vehicles:\n",
    "            self.available_vehicles.remove(vehicle)\n",
    "            self.rented_vehicles.append(vehicle)\n",
    "            print(f\"{vehicle} has been rented.\")\n",
    "        else:\n",
    "            print(f\"{vehicle} is not available.\")\n",
    "\n",
    "    def return_vehicle(self, vehicle):\n",
    "        if vehicle in self.rented_vehicles:\n",
    "            self.rented_vehicles.remove(vehicle)\n",
    "            self.available_vehicles.append(vehicle)\n",
    "            print(f\"{vehicle} has been returned.\")\n",
    "        else:\n",
    "            print(f\"{vehicle} was not rented.\")\n",
    "\n",
    "    def display_available_vehicles(self):\n",
    "        print(\"Available vehicles:\", self.available_vehicles)\n",
    "\n",
    "# Example\n",
    "rental = VehicleRental()\n",
    "rental.display_available_vehicles()\n",
    "rental.rent_vehicle(\"Car\")\n",
    "rental.display_available_vehicles()\n",
    "rental.return_vehicle(\"Car\")\n",
    "rental.display_available_vehicles()\n"
   ]
  },
  {
   "cell_type": "code",
   "execution_count": 8,
   "id": "06b22651-d217-49fc-b241-0765da4df592",
   "metadata": {},
   "outputs": [
    {
     "name": "stdout",
     "output_type": "stream",
     "text": [
      "Available books:\n",
      "Title: 1984, Author: George Orwell\n",
      "Title: To Kill a Mockingbird, Author: Harper Lee\n",
      "Borrowed book: Title: 1984, Author: George Orwell\n",
      "Available books:\n",
      "Title: To Kill a Mockingbird, Author: Harper Lee\n"
     ]
    }
   ],
   "source": [
    "#Problem 4: Library catalog\n",
    "class Book:\n",
    "    def __init__(self, title, author):\n",
    "        self.title = title\n",
    "        self.author = author\n",
    "\n",
    "    def __str__(self):\n",
    "        return f\"Title: {self.title}, Author: {self.author}\"\n",
    "\n",
    "class Library:\n",
    "    def __init__(self):\n",
    "        self.books = []\n",
    "\n",
    "    def add_book(self, book):\n",
    "        self.books.append(book)\n",
    "\n",
    "    def borrow_book(self, title):\n",
    "        for book in self.books:\n",
    "            if book.title == title:\n",
    "                self.books.remove(book)\n",
    "                print(f\"Borrowed book: {book}\")\n",
    "                return\n",
    "        print(\"Book not available.\")\n",
    "\n",
    "    def display_available_books(self):\n",
    "        print(\"Available books:\")\n",
    "        for book in self.books:\n",
    "            print(book)\n",
    "\n",
    "# Example\n",
    "library = Library()\n",
    "book1 = Book(\"1984\", \"George Orwell\")\n",
    "book2 = Book(\"To Kill a Mockingbird\", \"Harper Lee\")\n",
    "library.add_book(book1)\n",
    "library.add_book(book2)\n",
    "library.display_available_books()\n",
    "library.borrow_book(\"1984\")\n",
    "library.display_available_books()\n"
   ]
  },
  {
   "cell_type": "code",
   "execution_count": 10,
   "id": "09d6aa26-be69-468b-80ad-98c38c1fb89e",
   "metadata": {},
   "outputs": [
    {
     "name": "stdout",
     "output_type": "stream",
     "text": [
      "Available products:\n",
      "Product: Laptop, Quantity: 10, Price: $1000\n",
      "Product: Phone, Quantity: 20, Price: $500\n",
      "Available products:\n",
      "Product: Laptop, Quantity: 15, Price: $1000\n",
      "Product: Phone, Quantity: 20, Price: $500\n"
     ]
    }
   ],
   "source": [
    "#Problem 5: Product Inventory\n",
    "class Product:\n",
    "    def __init__(self, name, quantity, price):\n",
    "        self.name = name\n",
    "        self.quantity = quantity\n",
    "        self.price = price\n",
    "\n",
    "    def update_quantity(self, quantity):\n",
    "        self.quantity += quantity\n",
    "\n",
    "    def display_product(self):\n",
    "        print(f\"Product: {self.name}, Quantity: {self.quantity}, Price: ${self.price}\")\n",
    "\n",
    "class Inventory:\n",
    "    def __init__(self):\n",
    "        self.products = []\n",
    "\n",
    "    def add_product(self, product):\n",
    "        self.products.append(product)\n",
    "\n",
    "    def display_available_products(self):\n",
    "        print(\"Available products:\")\n",
    "        for product in self.products:\n",
    "            product.display_product()\n",
    "\n",
    "# Example\n",
    "inventory = Inventory()\n",
    "product1 = Product(\"Laptop\", 10, 1000)\n",
    "product2 = Product(\"Phone\", 20, 500)\n",
    "inventory.add_product(product1)\n",
    "inventory.add_product(product2)\n",
    "inventory.display_available_products()\n",
    "product1.update_quantity(5)\n",
    "inventory.display_available_products()\n"
   ]
  },
  {
   "cell_type": "code",
   "execution_count": 12,
   "id": "348b8ff9-567c-4118-9d12-cc06b8e6b991",
   "metadata": {},
   "outputs": [
    {
     "name": "stdout",
     "output_type": "stream",
     "text": [
      "Area: 20, Perimeter: 18\n"
     ]
    }
   ],
   "source": [
    "#Problem 5: shape calculation\n",
    "class Shape:\n",
    "    def __init__(self, length, width=None, height=None):\n",
    "        self.length = length\n",
    "        self.width = width\n",
    "        self.height = height\n",
    "\n",
    "    def calculate_area(self):\n",
    "        if self.width and self.height:\n",
    "            return self.length * self.width * self.height\n",
    "        elif self.width:\n",
    "            return self.length * self.width\n",
    "        else:\n",
    "            return self.length ** 2  # assuming it's a square\n",
    "\n",
    "    def calculate_perimeter(self):\n",
    "        if self.width and self.height:\n",
    "            return 2 * (self.length + self.width + self.height)\n",
    "        elif self.width:\n",
    "            return 2 * (self.length + self.width)\n",
    "        else:\n",
    "            return 4 * self.length\n",
    "\n",
    "# Example\n",
    "shape = Shape(4, 5)\n",
    "print(f\"Area: {shape.calculate_area()}, Perimeter: {shape.calculate_perimeter()}\")\n"
   ]
  },
  {
   "cell_type": "code",
   "execution_count": 14,
   "id": "4cc5b346-820b-4762-b935-03649fd18c26",
   "metadata": {},
   "outputs": [
    {
     "name": "stdout",
     "output_type": "stream",
     "text": [
      "Student ID: 1\n",
      "Name: John\n",
      "Average Grade: 88.75\n"
     ]
    }
   ],
   "source": [
    "#Problem 7: Student Management\n",
    "class Student:\n",
    "    def __init__(self, student_id, name, grades):\n",
    "        self.student_id = student_id\n",
    "        self.name = name\n",
    "        self.grades = grades\n",
    "\n",
    "    def calculate_average(self):\n",
    "        return sum(self.grades) / len(self.grades)\n",
    "\n",
    "    def display_details(self):\n",
    "        print(f\"Student ID: {self.student_id}\")\n",
    "        print(f\"Name: {self.name}\")\n",
    "        print(f\"Average Grade: {self.calculate_average()}\")\n",
    "\n",
    "# Example\n",
    "student = Student(1, \"John\", [85, 90, 88, 92])\n",
    "student.display_details()\n"
   ]
  },
  {
   "cell_type": "code",
   "execution_count": 16,
   "id": "830c16ed-ae5a-4fe7-bdd4-dea389b2c86b",
   "metadata": {},
   "outputs": [
    {
     "name": "stdout",
     "output_type": "stream",
     "text": [
      "Email sent to bob@example.com from alice@example.com. Subject: Meeting Tomorrow\n",
      "From: alice@example.com\n",
      "To: bob@example.com\n",
      "Subject: Meeting Tomorrow\n",
      "Body: Let's meet tomorrow at 3 PM.\n"
     ]
    }
   ],
   "source": [
    "#Ptoblem 8: Email Management\n",
    "class Email:\n",
    "    def __init__(self, sender, recipient, subject, body):\n",
    "        self.sender = sender\n",
    "        self.recipient = recipient\n",
    "        self.subject = subject\n",
    "        self.body = body\n",
    "\n",
    "    def send_email(self):\n",
    "        print(f\"Email sent to {self.recipient} from {self.sender}. Subject: {self.subject}\")\n",
    "\n",
    "    def display_email_details(self):\n",
    "        print(f\"From: {self.sender}\")\n",
    "        print(f\"To: {self.recipient}\")\n",
    "        print(f\"Subject: {self.subject}\")\n",
    "        print(f\"Body: {self.body}\")\n",
    "\n",
    "# Example\n",
    "email = Email(\"alice@example.com\", \"bob@example.com\", \"Meeting Tomorrow\", \"Let's meet tomorrow at 3 PM.\")\n",
    "email.send_email()\n",
    "email.display_email_details()\n"
   ]
  },
  {
   "cell_type": "code",
   "execution_count": 20,
   "id": "92221568-2b41-433e-b467-ffff8447dd96",
   "metadata": {},
   "outputs": [
    {
     "name": "stdout",
     "output_type": "stream",
     "text": [
      "Posts by john_doe:\n",
      "Had a great day!\n",
      "Learning Python is fun.\n",
      "Posts containing 'python':\n",
      "Learning Python is fun.\n"
     ]
    }
   ],
   "source": [
    "#Problem 9: Social Media profile\n",
    "class SocialMediaProfile:\n",
    "    def __init__(self, username):\n",
    "        self.username = username\n",
    "        self.posts = []\n",
    "\n",
    "    def add_post(self, post):\n",
    "        self.posts.append(post)\n",
    "\n",
    "    def display_posts(self):\n",
    "        print(f\"Posts by {self.username}:\")\n",
    "        for post in self.posts:\n",
    "            print(post)\n",
    "\n",
    "    def search_posts(self, keyword):\n",
    "        print(f\"Posts containing '{keyword}':\")\n",
    "        for post in self.posts:\n",
    "            if keyword.lower() in post.lower():\n",
    "                print(post)\n",
    "\n",
    "# Example\n",
    "profile = SocialMediaProfile(\"john_doe\")\n",
    "profile.add_post(\"Had a great day!\")\n",
    "profile.add_post(\"Learning Python is fun.\")\n",
    "profile.display_posts()\n",
    "profile.search_posts(\"python\")\n"
   ]
  },
  {
   "cell_type": "code",
   "execution_count": 18,
   "id": "da6793c4-9baf-465c-b32d-58547fcc5eeb",
   "metadata": {},
   "outputs": [
    {
     "name": "stdout",
     "output_type": "stream",
     "text": [
      "Pending tasks:\n",
      "Task: Finish homework, Due Date: 2025-01-30\n",
      "Task: Buy groceries, Due Date: 2025-01-29\n",
      "Task 'Finish homework' marked as completed.\n",
      "Pending tasks:\n",
      "Task: Buy groceries, Due Date: 2025-01-29\n"
     ]
    }
   ],
   "source": [
    "#Problem 10: Todo list\n",
    "class ToDoList:\n",
    "    def __init__(self):\n",
    "        self.tasks = {}\n",
    "\n",
    "    def add_task(self, task, due_date):\n",
    "        self.tasks[task] = {'due_date': due_date, 'completed': False}\n",
    "\n",
    "    def mark_completed(self, task):\n",
    "        if task in self.tasks:\n",
    "            self.tasks[task]['completed'] = True\n",
    "            print(f\"Task '{task}' marked as completed.\")\n",
    "        else:\n",
    "            print(f\"Task '{task}' not found.\")\n",
    "\n",
    "    def display_pending_tasks(self):\n",
    "        print(\"Pending tasks:\")\n",
    "        for task, details in self.tasks.items():\n",
    "            if not details['completed']:\n",
    "                print(f\"Task: {task}, Due Date: {details['due_date']}\")\n",
    "\n",
    "# Example\n",
    "todo_list = ToDoList()\n",
    "todo_list.add_task(\"Finish homework\", \"2025-01-30\")\n",
    "todo_list.add_task(\"Buy groceries\", \"2025-01-29\")\n",
    "todo_list.display_pending_tasks()\n",
    "todo_list.mark_completed(\"Finish homework\")\n",
    "todo_list.display_pending_tasks()\n"
   ]
  },
  {
   "cell_type": "code",
   "execution_count": null,
   "id": "356e99b9-4864-44cf-b1b0-40109298bb83",
   "metadata": {},
   "outputs": [],
   "source": []
  }
 ],
 "metadata": {
  "kernelspec": {
   "display_name": "Python 3 (ipykernel)",
   "language": "python",
   "name": "python3"
  },
  "language_info": {
   "codemirror_mode": {
    "name": "ipython",
    "version": 3
   },
   "file_extension": ".py",
   "mimetype": "text/x-python",
   "name": "python",
   "nbconvert_exporter": "python",
   "pygments_lexer": "ipython3",
   "version": "3.11.9"
  }
 },
 "nbformat": 4,
 "nbformat_minor": 5
}
